{
  "nbformat": 4,
  "nbformat_minor": 0,
  "metadata": {
    "colab": {
      "provenance": [],
      "authorship_tag": "ABX9TyM9I5DVMaBwOo/eDjXcN4E5",
      "include_colab_link": true
    },
    "kernelspec": {
      "name": "python3",
      "display_name": "Python 3"
    },
    "language_info": {
      "name": "python"
    }
  },
  "cells": [
    {
      "cell_type": "markdown",
      "metadata": {
        "id": "view-in-github",
        "colab_type": "text"
      },
      "source": [
        "<a href=\"https://colab.research.google.com/github/estrela1921/Projeto-individual-modulo5/blob/main/individual_m5.ipynb\" target=\"_parent\"><img src=\"https://colab.research.google.com/assets/colab-badge.svg\" alt=\"Open In Colab\"/></a>"
      ]
    },
    {
      "cell_type": "code",
      "source": [
        "import pandas as pd\n",
        "\n",
        "# Ler o arquivo Excel sem pular linhas e sem usar a primeira linha como cabeçalho\n",
        "df = pd.read_excel('/content/ProjetoIndividual.M5.xlsx', header=None)\n",
        "# Dados\n",
        "data = {\n",
        "    'Categoria': ['Treinamento', 'Conflito com outros', 'Falta de reconhecimento', 'Carga de trabalho', 'Avanço na carreira', 'Salário', 'Tipo de trabalho', 'Mudança de carreira', 'Deslocamento', 'Realocação', 'Doença'],\n",
        "    'Capacidade de impacto': [11, 10, 9, 8, 7, 6, 5, 4, 3, 2, 1],\n",
        "    'HRBP': [31, 11, 65, 14, 137, 16, 128, 18, 31, 105, 9],\n",
        "    'Pesquisa de saída': [23, 15, 44, 39, 171, 24, 78, 30, 22, 37, 21]\n",
        "}\n",
        "\n",
        "# Criar DataFrame\n",
        "df = pd.DataFrame(data)\n",
        "\n",
        "# Exibir DataFrame\n",
        "print(df)"
      ],
      "metadata": {
        "colab": {
          "base_uri": "https://localhost:8080/"
        },
        "id": "z6MFOOh0_c_m",
        "outputId": "9856c252-928c-4baf-e680-856094f297f9"
      },
      "execution_count": 11,
      "outputs": [
        {
          "output_type": "stream",
          "name": "stdout",
          "text": [
            "                  Categoria  Capacidade de impacto  HRBP  Pesquisa de saída\n",
            "0               Treinamento                     11    31                 23\n",
            "1       Conflito com outros                     10    11                 15\n",
            "2   Falta de reconhecimento                      9    65                 44\n",
            "3         Carga de trabalho                      8    14                 39\n",
            "4        Avanço na carreira                      7   137                171\n",
            "5                   Salário                      6    16                 24\n",
            "6          Tipo de trabalho                      5   128                 78\n",
            "7       Mudança de carreira                      4    18                 30\n",
            "8              Deslocamento                      3    31                 22\n",
            "9                Realocação                      2   105                 37\n",
            "10                   Doença                      1     9                 21\n"
          ]
        }
      ]
    },
    {
      "cell_type": "code",
      "source": [
        "# Remover colunas e linhas vazias\n",
        "df_cleaned = df.dropna(axis=1, how='all').dropna(axis=0, how='all')"
      ],
      "metadata": {
        "id": "0r8i2GGCsQHr"
      },
      "execution_count": 13,
      "outputs": []
    },
    {
      "cell_type": "code",
      "source": [
        "# Preencher os valores NaN com 0 (ou qualquer outro valor padrão)\n",
        "df['Capacidade de impacto'].fillna(0, inplace=True)\n",
        "\n",
        "# Converter coluna 'Capacidade de impacto' para inteiro\n",
        "df['Capacidade de impacto'] = df['Capacidade de impacto'].astype(int)\n",
        "\n",
        "# Exibir o DataFrame\n",
        "print(df)"
      ],
      "metadata": {
        "id": "XnfLtsFV2s5o",
        "colab": {
          "base_uri": "https://localhost:8080/"
        },
        "outputId": "514e80f4-42a5-4801-ed29-b23e7fa012ce"
      },
      "execution_count": 14,
      "outputs": [
        {
          "output_type": "stream",
          "name": "stdout",
          "text": [
            "                  Categoria  Capacidade de impacto  HRBP  Pesquisa de saída\n",
            "0               Treinamento                     11    31                 23\n",
            "1       Conflito com outros                     10    11                 15\n",
            "2   Falta de reconhecimento                      9    65                 44\n",
            "3         Carga de trabalho                      8    14                 39\n",
            "4        Avanço na carreira                      7   137                171\n",
            "5                   Salário                      6    16                 24\n",
            "6          Tipo de trabalho                      5   128                 78\n",
            "7       Mudança de carreira                      4    18                 30\n",
            "8              Deslocamento                      3    31                 22\n",
            "9                Realocação                      2   105                 37\n",
            "10                   Doença                      1     9                 21\n"
          ]
        }
      ]
    },
    {
      "cell_type": "code",
      "source": [
        "# Preencher os valores NaN com 0 (ou outro valor padrão)\n",
        "df_cleaned['Capacidade de impacto'].fillna(0, inplace=True)\n",
        "\n",
        "# Converter a coluna 'Capacidade de impacto' para inteiro\n",
        "df_cleaned['Capacidade de impacto'] = df_cleaned['Capacidade de impacto'].astype(int)"
      ],
      "metadata": {
        "id": "m0dEeoMd3IiW"
      },
      "execution_count": 15,
      "outputs": []
    },
    {
      "cell_type": "code",
      "source": [
        "# Exibir informações sobre o DataFrame\n",
        "print(df_cleaned.info())\n",
        "\n",
        "# Exibir estatísticas descritivas\n",
        "print(df_cleaned.describe())"
      ],
      "metadata": {
        "id": "JxUeAMJdsfer",
        "colab": {
          "base_uri": "https://localhost:8080/"
        },
        "outputId": "786ec92e-c7f5-410c-94ec-34c3de2e1086"
      },
      "execution_count": 17,
      "outputs": [
        {
          "output_type": "stream",
          "name": "stdout",
          "text": [
            "<class 'pandas.core.frame.DataFrame'>\n",
            "RangeIndex: 11 entries, 0 to 10\n",
            "Data columns (total 4 columns):\n",
            " #   Column                 Non-Null Count  Dtype \n",
            "---  ------                 --------------  ----- \n",
            " 0   Categoria              11 non-null     object\n",
            " 1   Capacidade de impacto  11 non-null     int64 \n",
            " 2   HRBP                   11 non-null     int64 \n",
            " 3   Pesquisa de saída      11 non-null     int64 \n",
            "dtypes: int64(3), object(1)\n",
            "memory usage: 480.0+ bytes\n",
            "None\n",
            "       Capacidade de impacto        HRBP  Pesquisa de saída\n",
            "count              11.000000   11.000000          11.000000\n",
            "mean                6.000000   51.363636          45.818182\n",
            "std                 3.316625   49.277323          44.959578\n",
            "min                 1.000000    9.000000          15.000000\n",
            "25%                 3.500000   15.000000          22.500000\n",
            "50%                 6.000000   31.000000          30.000000\n",
            "75%                 8.500000   85.000000          41.500000\n",
            "max                11.000000  137.000000         171.000000\n"
          ]
        }
      ]
    },
    {
      "cell_type": "code",
      "source": [
        "import pandas as pd\n",
        "\n",
        "# Se df_cleaned é o DataFrame tratado\n",
        "df_cleaned.to_excel('dados_tratados.xlsx', index=False)"
      ],
      "metadata": {
        "id": "6szBUZWDO7FJ"
      },
      "execution_count": 18,
      "outputs": []
    }
  ]
}